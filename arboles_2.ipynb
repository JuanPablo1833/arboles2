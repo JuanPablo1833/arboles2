{
  "nbformat": 4,
  "nbformat_minor": 0,
  "metadata": {
    "colab": {
      "name": "arboles 2.ipynb",
      "provenance": [],
      "authorship_tag": "ABX9TyPxqV//HwYPoeT1WHO4wjv9",
      "include_colab_link": true
    },
    "kernelspec": {
      "name": "python3",
      "display_name": "Python 3"
    },
    "language_info": {
      "name": "python"
    }
  },
  "cells": [
    {
      "cell_type": "markdown",
      "metadata": {
        "id": "view-in-github",
        "colab_type": "text"
      },
      "source": [
        "<a href=\"https://colab.research.google.com/github/JuanPablo1833/arboles2/blob/main/arboles_2.ipynb\" target=\"_parent\"><img src=\"https://colab.research.google.com/assets/colab-badge.svg\" alt=\"Open In Colab\"/></a>"
      ]
    },
    {
      "cell_type": "code",
      "metadata": {
        "id": "8NnJ10bF1nIc"
      },
      "source": [
        "class BynaryNode:\n",
        "    def __init__(self, value, left = None, right = None):\n",
        "        self.data = value \n",
        "        self.left = left\n",
        "        self.right = right\n",
        "\n",
        "class BinarySearchTree:\n",
        "    def __init__(self):\n",
        "        self.root = None\n",
        "    \n",
        "    def insert(self, value):\n",
        "        if self.root == None:\n",
        "            self.root = BynaryNode(value)\n",
        "        else:\n",
        "            self.__insert_nodo(self.root, value)\n",
        "\n",
        "    def __insert_nodo( self, nodo, value): \n",
        "        if nodo.data == value:\n",
        "            pass  \n",
        "        elif value < nodo.data:\n",
        "            if nodo.left == None:\n",
        "                nodo.left = BynaryNode(value)\n",
        "            else:\n",
        "                self.__insert_nodo(nodo.left, value)\n",
        "        else: \n",
        "             # ir a la derecha\n",
        "            if nodo.right == None:\n",
        "                nodo.right = BynaryNode(value)\n",
        "            else:\n",
        "                self.__insert_nodo(nodo.right, value)    \n",
        "\n",
        "         \n",
        "    def transversal(self, formato = \"posorden\"):\n",
        "        if formato == \"posorden\":\n",
        "            self.recorrido_pos(  self.root )  \n",
        "        elif formato == \"preorden\":\n",
        "            self.recorrido_pre(self.root)\n",
        "        else:\n",
        "             # inorden\n",
        "            self.recorrido_in(self.root)      \n",
        "            \n",
        "        print(\"_____________\")\n",
        "\n",
        "    def recorrido_pos(self,  nodo):\n",
        "        if nodo != None:\n",
        "            self.recorrido_pos(nodo.left)\n",
        "            self.recorrido_pos(nodo.right)\n",
        "            print( str(nodo.data ), end= \" , \" )\n",
        "\n",
        "    def recorrido_pre(self,  nodo):\n",
        "        if nodo != None:\n",
        "            print( str(nodo.data), end= \" , \" )\n",
        "            self.recorrido_pre(nodo.left)\n",
        "            self.recorrido_pre(nodo.right)\n",
        "            \n",
        "    def recorrido_in(self,  nodo):\n",
        "        if nodo != None:\n",
        "           \n",
        "            self.recorrido_in(nodo.left)\n",
        "            print( str(nodo.data), end= \" , \" )\n",
        "            self.recorrido_in(nodo.right)\n",
        "\n",
        "    def search(self, value):\n",
        "        if self.root == None:\n",
        "            print(\"El arbpol esta vacio\")\n",
        "            return None\n",
        "        else: \n",
        "            self.__search(self.root, value)      \n",
        "\n",
        "    def __search( self, nodo, value):   \n",
        "        if nodo.data == None:\n",
        "            print(\"El dato no existe\")\n",
        "            return None\n",
        "        elif nodo.data ==  value:\n",
        "            print(\"Encont6rado\")\n",
        "            return __insert_nodo\n",
        "        elif value < nodo.data:\n",
        "            return self.__buscar(nodo.left, value)\n",
        "        else:\n",
        "            return self.__buscar(nodo.right, value)\n",
        "\n",
        "\n",
        "\n",
        "\n"
      ],
      "execution_count": 33,
      "outputs": []
    },
    {
      "cell_type": "code",
      "metadata": {
        "colab": {
          "base_uri": "https://localhost:8080/"
        },
        "id": "Jf18XQNn-_KF",
        "outputId": "408c1e6c-5505-4a4b-9415-04d1fa6dc086"
      },
      "source": [
        "arbol1 = BinarySearchTree()\n",
        "arbol1.insert(60)\n",
        "arbol1.insert(30)\n",
        "arbol1.insert(15)\n",
        "arbol1.insert(40)\n",
        "\n",
        "arbol1.transversal(\"posorden\")\n",
        "arbol1.transversal(\"preorden\")\n",
        "arbol1.transversal(\"inorden\")"
      ],
      "execution_count": 32,
      "outputs": [
        {
          "output_type": "stream",
          "name": "stdout",
          "text": [
            "15 , 40 , 30 , 60 , _____________\n",
            "60 , 30 , 15 , 40 , _____________\n",
            "15 , 30 , 40 , 60 , _____________\n"
          ]
        }
      ]
    }
  ]
}